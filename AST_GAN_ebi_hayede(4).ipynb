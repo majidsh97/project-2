{
  "nbformat": 4,
  "nbformat_minor": 0,
  "metadata": {
    "colab": {
      "name": "AST_GAN_ebi_hayede(4).ipynb",
      "provenance": [],
      "collapsed_sections": [],
      "include_colab_link": true
    },
    "kernelspec": {
      "name": "python3",
      "display_name": "Python 3"
    },
    "accelerator": "GPU"
  },
  "cells": [
    {
      "cell_type": "markdown",
      "metadata": {
        "id": "view-in-github",
        "colab_type": "text"
      },
      "source": [
        "<a href=\"https://colab.research.google.com/github/majidsh97/project-2/blob/main/AST_GAN_ebi_hayede(4).ipynb\" target=\"_parent\"><img src=\"https://colab.research.google.com/assets/colab-badge.svg\" alt=\"Open In Colab\"/></a>"
      ]
    },
    {
      "cell_type": "code",
      "metadata": {
        "id": "OF3sNTU0T8cA",
        "outputId": "742491db-3f29-44f7-f240-633629c6f287",
        "colab": {
          "base_uri": "https://localhost:8080/",
          "height": 1000
        }
      },
      "source": [
        "!git clone https://github.com/inzva/Audio-Style-Transfer.git\n",
        "!pip install -q tensorflow-io\n",
        "!pip install librosa==0.8\n",
        "!pip install tensorflow-gan\n",
        "!pip install -q -U tensorflow-addons\n",
        "#sss"
      ],
      "execution_count": null,
      "outputs": [
        {
          "output_type": "stream",
          "text": [
            "Cloning into 'Audio-Style-Transfer'...\n",
            "remote: Enumerating objects: 40, done.\u001b[K\n",
            "remote: Total 40 (delta 0), reused 0 (delta 0), pack-reused 40\u001b[K\n",
            "Unpacking objects: 100% (40/40), done.\n",
            "\u001b[K     |████████████████████████████████| 22.3MB 1.3MB/s \n",
            "\u001b[?25hCollecting librosa==0.8\n",
            "\u001b[?25l  Downloading https://files.pythonhosted.org/packages/26/4d/c22d8ca74ca2c13cd4ac430fa353954886104321877b65fa871939e78591/librosa-0.8.0.tar.gz (183kB)\n",
            "\u001b[K     |████████████████████████████████| 184kB 4.5MB/s \n",
            "\u001b[?25hRequirement already satisfied: audioread>=2.0.0 in /usr/local/lib/python3.6/dist-packages (from librosa==0.8) (2.1.8)\n",
            "Requirement already satisfied: numpy>=1.15.0 in /usr/local/lib/python3.6/dist-packages (from librosa==0.8) (1.18.5)\n",
            "Requirement already satisfied: scipy>=1.0.0 in /usr/local/lib/python3.6/dist-packages (from librosa==0.8) (1.4.1)\n",
            "Requirement already satisfied: scikit-learn!=0.19.0,>=0.14.0 in /usr/local/lib/python3.6/dist-packages (from librosa==0.8) (0.22.2.post1)\n",
            "Requirement already satisfied: joblib>=0.14 in /usr/local/lib/python3.6/dist-packages (from librosa==0.8) (0.16.0)\n",
            "Requirement already satisfied: decorator>=3.0.0 in /usr/local/lib/python3.6/dist-packages (from librosa==0.8) (4.4.2)\n",
            "Requirement already satisfied: resampy>=0.2.2 in /usr/local/lib/python3.6/dist-packages (from librosa==0.8) (0.2.2)\n",
            "Requirement already satisfied: numba>=0.43.0 in /usr/local/lib/python3.6/dist-packages (from librosa==0.8) (0.48.0)\n",
            "Collecting soundfile>=0.9.0\n",
            "  Downloading https://files.pythonhosted.org/packages/eb/f2/3cbbbf3b96fb9fa91582c438b574cff3f45b29c772f94c400e2c99ef5db9/SoundFile-0.10.3.post1-py2.py3-none-any.whl\n",
            "Collecting pooch>=1.0\n",
            "\u001b[?25l  Downloading https://files.pythonhosted.org/packages/ce/11/d7a1dc8173a4085759710e69aae6e070d0d432db84013c7c343e4e522b76/pooch-1.2.0-py3-none-any.whl (47kB)\n",
            "\u001b[K     |████████████████████████████████| 51kB 7.8MB/s \n",
            "\u001b[?25hRequirement already satisfied: six>=1.3 in /usr/local/lib/python3.6/dist-packages (from resampy>=0.2.2->librosa==0.8) (1.15.0)\n",
            "Requirement already satisfied: llvmlite<0.32.0,>=0.31.0dev0 in /usr/local/lib/python3.6/dist-packages (from numba>=0.43.0->librosa==0.8) (0.31.0)\n",
            "Requirement already satisfied: setuptools in /usr/local/lib/python3.6/dist-packages (from numba>=0.43.0->librosa==0.8) (50.3.0)\n",
            "Requirement already satisfied: cffi>=1.0 in /usr/local/lib/python3.6/dist-packages (from soundfile>=0.9.0->librosa==0.8) (1.14.3)\n",
            "Requirement already satisfied: packaging in /usr/local/lib/python3.6/dist-packages (from pooch>=1.0->librosa==0.8) (20.4)\n",
            "Requirement already satisfied: requests in /usr/local/lib/python3.6/dist-packages (from pooch>=1.0->librosa==0.8) (2.23.0)\n",
            "Collecting appdirs\n",
            "  Downloading https://files.pythonhosted.org/packages/3b/00/2344469e2084fb287c2e0b57b72910309874c3245463acd6cf5e3db69324/appdirs-1.4.4-py2.py3-none-any.whl\n",
            "Requirement already satisfied: pycparser in /usr/local/lib/python3.6/dist-packages (from cffi>=1.0->soundfile>=0.9.0->librosa==0.8) (2.20)\n",
            "Requirement already satisfied: pyparsing>=2.0.2 in /usr/local/lib/python3.6/dist-packages (from packaging->pooch>=1.0->librosa==0.8) (2.4.7)\n",
            "Requirement already satisfied: chardet<4,>=3.0.2 in /usr/local/lib/python3.6/dist-packages (from requests->pooch>=1.0->librosa==0.8) (3.0.4)\n",
            "Requirement already satisfied: idna<3,>=2.5 in /usr/local/lib/python3.6/dist-packages (from requests->pooch>=1.0->librosa==0.8) (2.10)\n",
            "Requirement already satisfied: urllib3!=1.25.0,!=1.25.1,<1.26,>=1.21.1 in /usr/local/lib/python3.6/dist-packages (from requests->pooch>=1.0->librosa==0.8) (1.24.3)\n",
            "Requirement already satisfied: certifi>=2017.4.17 in /usr/local/lib/python3.6/dist-packages (from requests->pooch>=1.0->librosa==0.8) (2020.6.20)\n",
            "Building wheels for collected packages: librosa\n",
            "  Building wheel for librosa (setup.py) ... \u001b[?25l\u001b[?25hdone\n",
            "  Created wheel for librosa: filename=librosa-0.8.0-cp36-none-any.whl size=201376 sha256=a336dc645cbc0a1bbbe63ef6c53e764383afa49cf1110cab774e5eb82c74658c\n",
            "  Stored in directory: /root/.cache/pip/wheels/ee/10/1e/382bb4369e189938d5c02e06d10c651817da8d485bfd1647c9\n",
            "Successfully built librosa\n",
            "Installing collected packages: soundfile, appdirs, pooch, librosa\n",
            "  Found existing installation: librosa 0.6.3\n",
            "    Uninstalling librosa-0.6.3:\n",
            "      Successfully uninstalled librosa-0.6.3\n",
            "Successfully installed appdirs-1.4.4 librosa-0.8.0 pooch-1.2.0 soundfile-0.10.3.post1\n",
            "Collecting tensorflow-gan\n",
            "\u001b[?25l  Downloading https://files.pythonhosted.org/packages/0c/2e/62922111d7d50e1900e3030764743ea7735540ce103b3ab30fd5cd2d8a2b/tensorflow_gan-2.0.0-py2.py3-none-any.whl (365kB)\n",
            "\u001b[K     |████████████████████████████████| 368kB 5.5MB/s \n",
            "\u001b[?25hRequirement already satisfied: tensorflow-hub>=0.2 in /usr/local/lib/python3.6/dist-packages (from tensorflow-gan) (0.9.0)\n",
            "Requirement already satisfied: tensorflow-probability>=0.7 in /usr/local/lib/python3.6/dist-packages (from tensorflow-gan) (0.11.0)\n",
            "Requirement already satisfied: numpy>=1.12.0 in /usr/local/lib/python3.6/dist-packages (from tensorflow-hub>=0.2->tensorflow-gan) (1.18.5)\n",
            "Requirement already satisfied: six>=1.12.0 in /usr/local/lib/python3.6/dist-packages (from tensorflow-hub>=0.2->tensorflow-gan) (1.15.0)\n",
            "Requirement already satisfied: protobuf>=3.8.0 in /usr/local/lib/python3.6/dist-packages (from tensorflow-hub>=0.2->tensorflow-gan) (3.12.4)\n",
            "Requirement already satisfied: gast>=0.3.2 in /usr/local/lib/python3.6/dist-packages (from tensorflow-probability>=0.7->tensorflow-gan) (0.3.3)\n",
            "Requirement already satisfied: dm-tree in /usr/local/lib/python3.6/dist-packages (from tensorflow-probability>=0.7->tensorflow-gan) (0.1.5)\n",
            "Requirement already satisfied: decorator in /usr/local/lib/python3.6/dist-packages (from tensorflow-probability>=0.7->tensorflow-gan) (4.4.2)\n",
            "Requirement already satisfied: cloudpickle==1.3 in /usr/local/lib/python3.6/dist-packages (from tensorflow-probability>=0.7->tensorflow-gan) (1.3.0)\n",
            "Requirement already satisfied: setuptools in /usr/local/lib/python3.6/dist-packages (from protobuf>=3.8.0->tensorflow-hub>=0.2->tensorflow-gan) (50.3.0)\n",
            "Installing collected packages: tensorflow-gan\n",
            "Successfully installed tensorflow-gan-2.0.0\n",
            "\u001b[K     |████████████████████████████████| 1.1MB 5.3MB/s \n",
            "\u001b[?25h"
          ],
          "name": "stdout"
        }
      ]
    },
    {
      "cell_type": "code",
      "metadata": {
        "id": "B78UPGoERYRR",
        "outputId": "b6e406c6-ee13-484d-b143-ee551117b304",
        "colab": {
          "base_uri": "https://localhost:8080/",
          "height": 72
        }
      },
      "source": [
        "import tensorflow as tf\n",
        "import numpy as np\n",
        "import IPython\n",
        "import matplotlib.pyplot as plt\n",
        "import os\n",
        "import tensorflow_io as tfio\n",
        "from tensorflow.keras import layers\n",
        "import librosa\n",
        "import time\n",
        "import tensorflow_gan as tfgan\n",
        "from scipy.signal import resample\n",
        "import tensorflow_addons as tfa"
      ],
      "execution_count": null,
      "outputs": [
        {
          "output_type": "stream",
          "text": [
            "WARNING:tensorflow:From /usr/local/lib/python3.6/dist-packages/tensorflow_gan/python/estimator/tpu_gan_estimator.py:42: The name tf.estimator.tpu.TPUEstimator is deprecated. Please use tf.compat.v1.estimator.tpu.TPUEstimator instead.\n",
            "\n"
          ],
          "name": "stdout"
        }
      ]
    },
    {
      "cell_type": "code",
      "metadata": {
        "id": "1enlwRRnEMoM"
      },
      "source": [
        "#from google.colab import drive\n",
        "#drive.mount('/content/drive')"
      ],
      "execution_count": null,
      "outputs": []
    },
    {
      "cell_type": "code",
      "metadata": {
        "id": "WhqXlYVDSH9u"
      },
      "source": [
        "\n",
        "#newvalue = a * value + b. a = (max'-min')/(max-min) and b = max - a * max\n",
        "\n",
        "def tensor_to_audio(tensor,fs,N_FFT):\n",
        "  a = np.zeros_like(tensor)\n",
        "  a = np.exp(tf.transpose(tensor).numpy()) - 1\n",
        "  \n",
        "  # This code is supposed to do phase reconstruction\n",
        "  p = 2 * np.pi * np.random.random_sample(a.shape) - np.pi\n",
        "  for i in range(10):\n",
        "      S = a * np.exp(1j*p)\n",
        "      x = librosa.istft(S)\n",
        "      p = np.angle(librosa.stft(x, N_FFT))\n",
        "  return x\n",
        "  OUTPUT_FILENAME =   '1.wav'\n",
        "  librosa.write_wav(OUTPUT_FILENAME, x, fs)\n",
        "\n",
        "def gram(inputs):\n",
        "  #batch nist age batch mikhay bayad ye b be harf ha va ye 1 be inputs.shape azafe beshe\n",
        "  gram=0\n",
        "  gram = tf.matmul(tf.transpose(inputs),inputs)/(inputs.shape[0]*inputs.shape[1])\n",
        "    \n",
        "  \"\"\"  if len(inputs.shape)==4:\n",
        "    ij=tf.cast(inputs.shape[1]*inputs.shape[2],'float32')\n",
        "    gram=tf.linalg.einsum('bijk,bijd->bkd',inputs,inputs)/ij\n",
        "  else:\n",
        "   if len(inputs.shape)==3:\n",
        "    i=tf.cast(inputs.shape[1],'float32')\n",
        "    gram=tf.linalg.einsum('bjk,bjd->bkd',inputs,inputs)/i\"\"\"\n",
        "\n",
        "  return gram\n",
        "\n",
        "def abs_angle_to_complex(abs,ang):\n",
        "  ang=tf.complex(0.0,ang)\n",
        "  ang=tf.math.exp(ang)\n",
        "  z=tf.complex(abs,0.0)*ang\n",
        "  return z\n",
        "\n",
        "def t2a(tensor, frame_length, frame_step, fft_length):\n",
        "  a=tf.complex(tensor,0.0)\n",
        "  a=tf.cast(a,tf.complex64)\n",
        "  a = tf.math.exp(a) - 1\n",
        "  p = 2 * np.pi* tf.random.uniform(a.shape,dtype=tf.float32) - np.pi\n",
        "  p=tf.complex(0.0,p)\n",
        "  for i in range(10):\n",
        "    S = a * tf.math.exp(p)\n",
        "    x=tf.signal.inverse_stft(S, frame_length, frame_step, fft_length)\n",
        "    stft=tf.signal.stft(x,frame_length, frame_step,fft_length)\n",
        "    p = tf.math.angle(stft)\n",
        "    p = tf.complex(0.0,p)\n",
        "  return x\n",
        "\n",
        "def imshow(img):\n",
        "  plt.imshow(img+127.5/255.0)\n",
        "\n",
        "def linear_scale(x,max_to=1,min_to=0):\n",
        "  max=x.max()\n",
        "  min=x.min()\n",
        "  a = (max_to-min_to)/(max-min)\n",
        "  b = max - a * max\n",
        "  newvalue = a * x + b  \n",
        "  return newvalue\n",
        "\n",
        "\n",
        "def display(x,fs):\n",
        "  IPython.display.display(IPython.display.Audio(x,rate=fs))\n",
        "\n",
        "def invspectogram(spect,angle,frame_length,frame_step,fft_length):\n",
        "  spect = abs_angle_to_complex(tf.math.expm1(spect),angle)\n",
        "  y_invstft=tf.signal.inverse_stft(spect,frame_length,frame_step,fft_length)\n",
        "  return y_invstft\n",
        "\n",
        "def spectrogram(x,frame_length , frame_step,fft_length ):\n",
        "  y=tf.signal.stft(x,frame_length,frame_step,fft_length)\n",
        "  content_angle=tf.math.angle(y)\n",
        "  content_spect=tf.math.log1p(tf.abs(y))\n",
        "  return [content_spect , content_angle]\n",
        "\n",
        "def window_stack(a, stepsize, width):\n",
        "    return tf.stack( [a[i:1+i-width or None:stepsize]  for i in range(0,width) ],-1)\n",
        "\n",
        "class ClipConstraint(tf.keras.constraints.Constraint):\n",
        "\t# set clip value when initialized\n",
        "\tdef __init__(self, clip_value):\n",
        "\t\tself.clip_value = clip_value\n",
        " \n",
        "\t# clip model weights to hypercube\n",
        "\tdef __call__(self, weights):\n",
        "\t\treturn tf.keras.backend.clip(weights, -self.clip_value, self.clip_value)\n",
        " \n",
        "\t# get the config\n",
        "\tdef get_config(self):\n",
        "\t\treturn {'clip_value': self.clip_value}"
      ],
      "execution_count": null,
      "outputs": []
    },
    {
      "cell_type": "code",
      "metadata": {
        "id": "ZVTvMsYrnrL4"
      },
      "source": [
        "\"\"\"a=tfio.audio.AudioIOTensor(FILE)\n",
        "fs=a.rate.numpy()\n",
        "a=a.to_tensor()[:,0]\n",
        "a=tf.cast(a,tf.float32).numpy()\n",
        "a = a / 32768.0\"\"\""
      ],
      "execution_count": null,
      "outputs": []
    },
    {
      "cell_type": "code",
      "metadata": {
        "id": "Lzxb0Y7kImA3"
      },
      "source": [
        "\n",
        "def get_sliced_spectrom(s,p):\n",
        "  #x=tf.roll(x,tf.random.uniform((),0,int(n/2),dtype=tf.int32),0)\n",
        "  #x = window_stack(x,int(fs_content),fs_content)[...,None]\n",
        "\n",
        "  t = int(s.shape[0]/s.shape[1])*s.shape[1]\n",
        "  s_slice = np.reshape(s[:t,:],(-1,s.shape[1],s.shape[1]))\n",
        "  p_slice = np.reshape(p[:t,:],(-1,s.shape[1],s.shape[1]))\n",
        "  l2=tf.reduce_sum(tf.square(s_slice),[1,2])\n",
        "  condition=l2>1e4\n",
        "  s_slice = s_slice[condition,...,None]\n",
        "  p_slice = p_slice[condition,...,None]\n",
        "\n",
        "  return tf.concat( [s_slice,p_slice ] ,-1)\n",
        "\n"
      ],
      "execution_count": null,
      "outputs": []
    },
    {
      "cell_type": "code",
      "metadata": {
        "id": "IgRpPDh3F3iX",
        "outputId": "98b5f8ec-edac-482f-c86c-c1242f2fb702",
        "colab": {
          "base_uri": "https://localhost:8080/",
          "height": 53
        }
      },
      "source": [
        "frame_length=1024\n",
        "frame_step=256\n",
        "fft_length = None\n",
        "\"\"\"\n",
        "singer = 'ebi'\n",
        "DIR='/content/drive/My Drive/music/'+singer+'/'\n",
        "musiclist=os.listdir(DIR)\n",
        "data_list=[]\n",
        "for l in musiclist:\n",
        "  print(l)\n",
        "  \n",
        "  FILE=DIR+l+'/vocals.wav'\n",
        "  a,fs=librosa.load(FILE)\n",
        "\n",
        "  s,p = spectrogram(a,frame_length,frame_step,fft_length)\n",
        "  s=s[:,:s.shape[1]-1]\n",
        "  p=p[:,:p.shape[1]-1]\n",
        "  data_list.append(get_sliced_spectrom(s,p))\n",
        "\n",
        "\n",
        "\"\"\""
      ],
      "execution_count": null,
      "outputs": [
        {
          "output_type": "execute_result",
          "data": {
            "application/vnd.google.colaboratory.intrinsic+json": {
              "type": "string"
            },
            "text/plain": [
              "\"\\nsinger = 'ebi'\\nDIR='/content/drive/My Drive/music/'+singer+'/'\\nmusiclist=os.listdir(DIR)\\ndata_list=[]\\nfor l in musiclist:\\n  print(l)\\n  \\n  FILE=DIR+l+'/vocals.wav'\\n  a,fs=librosa.load(FILE)\\n\\n  s,p = spectrogram(a,frame_length,frame_step,fft_length)\\n  s=s[:,:s.shape[1]-1]\\n  p=p[:,:p.shape[1]-1]\\n  data_list.append(get_sliced_spectrom(s,p))\\n\\n\\n\""
            ]
          },
          "metadata": {
            "tags": []
          },
          "execution_count": 5
        }
      ]
    },
    {
      "cell_type": "code",
      "metadata": {
        "id": "0T81MGAqwcXa",
        "outputId": "69923a40-38b5-4189-9050-5455eca6e2f0",
        "colab": {
          "base_uri": "https://localhost:8080/",
          "height": 35
        }
      },
      "source": [
        "from google.colab import drive\n",
        "drive.mount('/content/drive')"
      ],
      "execution_count": null,
      "outputs": [
        {
          "output_type": "stream",
          "text": [
            "Mounted at /content/drive\n"
          ],
          "name": "stdout"
        }
      ]
    },
    {
      "cell_type": "code",
      "metadata": {
        "id": "NLe6NyTKlcfy"
      },
      "source": [
        "\"\"\"BATCH_SIZE=1\n",
        "BUFFER_SIZE=1000\n",
        "train_dataset = tf.concat(data_list,0)\n",
        "np.save(singer,train_dataset.numpy())\n",
        "#np.load(singer+'.npy')\"\"\""
      ],
      "execution_count": null,
      "outputs": []
    },
    {
      "cell_type": "code",
      "metadata": {
        "id": "DluBYch7VNwN"
      },
      "source": [
        "#hayede[:ebi.shape[0]].shape\n"
      ],
      "execution_count": null,
      "outputs": []
    },
    {
      "cell_type": "code",
      "metadata": {
        "id": "EcMYFRwfiJEU"
      },
      "source": [
        "\"\"\"#p=(x[1]/np.pi + 1)/2\n",
        "p = x[1]/np.pi\n",
        "\n",
        "#p = np.abs(p)\n",
        "p = np.cumsum(p,0)\n",
        "p = np.cumsum(p,1)\n",
        "\n",
        "plt.imshow(p)#p[1:,:]-p[:-1,:])\n",
        "plt.show()\n",
        "p[:,1:] -= p[:,:-1].copy()\n",
        "p[1:,:] -= p[:-1,:].copy()\n",
        "\n",
        "plt.imshow(p)\n",
        "#p = (p*2-1)*np.pi\n",
        "p= p*np.pi\n",
        "y=invspectogram(x[0],p,frame_length,frame_step,fft_length)\n",
        "display(y,fs_content)\"\"\""
      ],
      "execution_count": null,
      "outputs": []
    },
    {
      "cell_type": "code",
      "metadata": {
        "id": "_nZRAaYE8IKP"
      },
      "source": [
        "\"\"\"k=(1,2)\n",
        "y1=layers.AveragePooling2D((1,2))(x[0][None,:,:,None])[0,:,:,0]\n",
        "y2=layers.AveragePooling2D((2,1))(x[0][None,:,:,None])[0,:,:,0]\n",
        "\n",
        "print(y1.shape , y2.shape)\n",
        "y=(y1[:y2.shape[0],:]+y2[:,y1.shape[1]])/2\n",
        "\n",
        "y1=y1[:y.shape[0],:y.shape[1]]+y\n",
        "print(y1.shape)\"\"\""
      ],
      "execution_count": null,
      "outputs": []
    },
    {
      "cell_type": "code",
      "metadata": {
        "id": "SVVAOreGBsHa"
      },
      "source": [
        "\"\"\"\n",
        "\n",
        "p = x[1]/np.pi\n",
        "\n",
        "#p = np.abs(p)\n",
        "p = np.cumsum(p,0)\n",
        "p = np.cumsum(p,1)\n",
        "\n",
        "plt.imshow(p)#p[1:,:]-p[:-1,:])\n",
        "plt.show()\n",
        "\n",
        "\n",
        "k=(1,2)\n",
        "D=layers.AveragePooling2D(k)\n",
        "y1=D(x[0][None,:,:,None])\n",
        "y1=D(y1)\n",
        "y1=D(y1)\n",
        "y1=D(y1)\n",
        "y1=D(y1)\n",
        "y1=D(y1)\n",
        "y1=D(y1)\n",
        "y1=D(y1)\n",
        "#y1=D(y1)\n",
        "\n",
        "print(y1.shape)\n",
        "plt.imshow(y1[0,:,:,0])\n",
        "plt.show()\n",
        "\n",
        "U=layers.UpSampling2D(k,interpolation='bilinear')\n",
        "y1 = U(y1)\n",
        "y1 = U(y1)\n",
        "y1 = U(y1)\n",
        "y1 = U(y1)\n",
        "y1 = U(y1)\n",
        "y1 = U(y1)\n",
        "y1 = U(y1)\n",
        "y1 = U(y1)\n",
        "#y1 = U(y1)\n",
        "\n",
        "y1=y1[0,:,:,0]\n",
        "plt.imshow(y1)\n",
        "plt.show()\n",
        "\n",
        "p=y1.numpy()\n",
        "#p[:,1:] -= p[:,:-1].copy()\n",
        "#p[1:,:] -= p[:-1,:].copy()\n",
        "\n",
        "#p = (p*2-1)*np.pi\n",
        "p= p*np.pi\n",
        "z=y1\n",
        "plt.imshow(p)\n",
        "plt.show()\n",
        "\n",
        "\n",
        "y=invspectogram(y1,x[1],frame_length,frame_step,fft_length)\n",
        "#p=spectrogram(y,frame_length,frame_step,fft_length)\n",
        "display(y,fs_content)\"\"\""
      ],
      "execution_count": null,
      "outputs": []
    },
    {
      "cell_type": "code",
      "metadata": {
        "id": "4k8-V0K2Gvq7"
      },
      "source": [
        "\"\"\"o=(t+z)/2\n",
        "#o=o[0,:,:,0]\n",
        "o=o.numpy()\n",
        "plt.imshow(o)\n",
        "o[:,1:] -= o[:,:-1].copy()\n",
        "o[1:,:] -= o[:-1,:].copy()\n",
        "\n",
        "#p = (p*2-1)*np.pi\n",
        "o= o*np.pi\n",
        "y=invspectogram(x[0],o,frame_length,frame_step,fft_length)\n",
        "display(y,fs_content)\"\"\""
      ],
      "execution_count": null,
      "outputs": []
    },
    {
      "cell_type": "code",
      "metadata": {
        "id": "UY2ctaxdxJyk"
      },
      "source": [
        "hayede_np = np.load('/content/drive/My Drive/music/hayede.npy','r')\n",
        "ebi_np = np.load('/content/drive/My Drive/music/ebi.npy','r')\n",
        "\n",
        "#hayede[:,:,:,0] = hayede[:,:,:,0] / 2.5 - 1\n",
        "#ebi[:,:,:,0] = ebi[:,:,:,0] / 2.5 - 1\n",
        "\n",
        "#hayede[:,:,:,1] = hayede[:,:,:,1] / np.pi \n",
        "#ebi[:,:,:,1] = ebi[:,:,:,1] / np.pi \n",
        "\n",
        "BATCH_SIZE=32\n",
        "hayede = tf.data.Dataset.from_tensor_slices(hayede_np).shuffle(250).batch(BATCH_SIZE,True).prefetch(2)\n",
        "ebi = tf.data.Dataset.from_tensor_slices(ebi_np).shuffle(250).batch(BATCH_SIZE,True).prefetch(2)\n"
      ],
      "execution_count": null,
      "outputs": []
    },
    {
      "cell_type": "code",
      "metadata": {
        "id": "RJ6uYKBAd5Dx"
      },
      "source": [
        "\n",
        "\n",
        "cross=tf.keras.losses.BinaryCrossentropy(True)\n",
        "\n",
        "def disc_loss(real_disc,fake_disc):\n",
        "  real_loss=cross(tf.ones_like(real_disc),real_disc)\n",
        "  fake_loss=cross(tf.zeros_like(fake_disc),fake_disc)\n",
        "  return  real_loss + fake_loss\n",
        "  #return tfgan.losses.losses_impl.wasserstein_discriminator_loss(real_disc,fake_disc)\n",
        "\n",
        "\n",
        "def gen_loss(fake_disc):\n",
        "  return cross(tf.ones_like(fake_disc),fake_disc)\n",
        "  #return tfgan.losses.losses_impl.wasserstein_generator_loss(fake_disc)\n",
        "\n",
        "  "
      ],
      "execution_count": null,
      "outputs": []
    },
    {
      "cell_type": "code",
      "metadata": {
        "id": "izPK-DMzKJIg",
        "outputId": "f96b7d7d-8094-43d4-d021-80273d01bb45",
        "colab": {
          "base_uri": "https://localhost:8080/",
          "height": 775
        }
      },
      "source": [
        "stride=1\n",
        "dilation=1\n",
        "kernel_size = 3\n",
        "init = tf.keras.initializers.RandomNormal(stddev=0.02)\n",
        "const = None #tf.keras.constraints.MaxNorm() #ClipConstraint(0.01)\n",
        "up_down=(2,2)\n",
        "\n",
        "class WeightedSum(tf.keras.layers.Layer):\n",
        "  def __init__(self,name):\n",
        "    super(WeightedSum,self).__init__()\n",
        "    self.alpha = tf.Variable( tf.abs(init((1,))), trainable=True ,  dtype=tf.float32 , name=name )\n",
        "\n",
        "  def call(self,inp):\n",
        "    #return (1-self.alpha) * inp[0] + self.alpha * inp[1]\n",
        "    return (1-self.alpha) *inp[0] +  self.alpha * inp[1] #+ tf.random.normal(inp[1].shape[1:],0.02)\n",
        "\n",
        "class AddNoise(tf.keras.layers.Layer):\n",
        "  def __init__(self,name):\n",
        "    super(AddNoise,self).__init__()\n",
        "\n",
        "  def call(self,inp):\n",
        "    return inp + tf.random.rand\n",
        "class discBlock(layers.Layer):\n",
        "  def __init__(self,f):\n",
        "    super(discBlock,self).__init__()\n",
        "    #-------------------------------\n",
        "    self.c1 = layers.Conv1D(f,kernel_size,stride,dilation_rate=dilation,padding='SAME',use_bias=False, kernel_initializer=init , kernel_constraint=const )\n",
        "    self.c2 = layers.Conv1D(f,kernel_size,1,dilation_rate=dilation,padding='SAME',use_bias=False, kernel_initializer=init , kernel_constraint=const )\n",
        "    self.bn = layers.BatchNormalization()\n",
        "    #self.innorm = tfa.layers.normalizations.InstanceNormalization()\n",
        "\n",
        "    self.lr = layers.LeakyReLU(0.2)\n",
        "    #self.drop1=layers.Dropout(0.1)\n",
        "    #-------------------------------\n",
        "    #self.avg = layers.AveragePooling2D(up_down)\n",
        "    #-------------------------------\n",
        "\n",
        "    \n",
        "  def call(self,inp):\n",
        "    x = inp\n",
        "    x = self.c1(inp)\n",
        "    x = self.c2(x)\n",
        "    x = self.bn(x)\n",
        "    #x = self.innorm(x)\n",
        "    x = self.lr(x)\n",
        "    #x = self.drop1(x)\n",
        "    #x = self.avg(x)\n",
        "    return x\n",
        "  \n",
        "  def plot(self):\n",
        "    _inp = layers.Input((32,32))\n",
        "    o=self.call(_inp)\n",
        "    m=tf.keras.Model(_inp,o)\n",
        "    img = tf.keras.utils.plot_model(m,'discBlock.png',True,dpi=64)\n",
        "    print(\"discBlock\")\n",
        "    IPython.display.display(img)\n",
        "    print('------------------------------')\n",
        "\n",
        "\n",
        "class genBlock(layers.Layer):\n",
        "  def __init__(self,f,use_last_layer):\n",
        "    super(genBlock,self).__init__()\n",
        "    #-------------------------------\n",
        "    #self.up1 = layers.UpSampling2D(up_down)\n",
        "  #-----------------------------------------\n",
        "    self.c1 = layers.Conv1DTranspose(f,kernel_size,stride,dilation_rate=dilation,padding='SAME',use_bias=False, kernel_initializer=init , kernel_constraint=const )\n",
        "    self.c2 = layers.Conv1DTranspose(f,kernel_size,1,dilation_rate=dilation,padding='SAME',use_bias=False, kernel_initializer=init , kernel_constraint=const )\n",
        "    self.bn = layers.BatchNormalization()\n",
        "    #self.innorm = tfa.layers.normalizations.InstanceNormalization()\n",
        "    self.lr = layers.LeakyReLU(0.2)\n",
        "\n",
        "\n",
        "    #-------------------------------\n",
        "    \n",
        "  def call(self,inp):\n",
        "    x = inp\n",
        "    #x = self.up1(x)\n",
        "    x = self.c1(x)\n",
        "    x = self.c2(x)\n",
        "    x = self.bn(x)\n",
        "    #x = self.innorm(x)\n",
        "    x = self.lr(x)\n",
        "\n",
        "\n",
        "    return x\n",
        "    \n",
        "  def plot(self):\n",
        "    _inp = layers.Input((32,32))\n",
        "    o=self.call(_inp)\n",
        "    m=tf.keras.Model(_inp,o)\n",
        "    img = tf.keras.utils.plot_model(m,'genBlock.png',True,dpi=64)\n",
        "    print(\"genBlock\")\n",
        "    IPython.display.display(img)\n",
        "    print('------------------------------')\n",
        "  \n",
        "    \n",
        "\n",
        "def udown(inp,f):\n",
        "  x = inp\n",
        "  f=int(f/2)\n",
        "\n",
        "  #x = layers.Conv2D(f,5,stride,dilation_rate=dilation,padding='SAME',use_bias=False, kernel_initializer=init , kernel_constraint=const )(x)\n",
        "  #------------------------ bala bayad add she -----------------------------------\n",
        "  x = discBlock(f)(x)\n",
        "\n",
        "  return x\n",
        "\n",
        "def uup(inp,f,use_last_layer):\n",
        "  x=inp\n",
        "  f = f * 2\n",
        "  x = genBlock(f,use_last_layer)(x)\n",
        "  #------------------------ paiin bayad add she -----------------------------------\n",
        "  #x = layers.Conv2DTranspose(f,5,stride,dilation_rate=dilation,padding='SAME',use_bias=False, kernel_initializer=init , kernel_constraint=const )(x)\n",
        "\n",
        "  return x\n",
        "\n",
        "def get_discriminator(inp,num,f):\n",
        "  x=inp\n",
        "  layer_list=[]\n",
        "  for i in range(num):\n",
        "    x=udown(x,f)\n",
        "    f=x.shape[-1]\n",
        "    layer_list.append(x)\n",
        "\n",
        "  return layer_list #tf.keras.models.Model(inp,x)\n",
        "\n",
        "def get_generator(inp,num,f,latent_dim,is_latent=True):\n",
        "  x = inp\n",
        "  use_last_layer = False\n",
        "  \"\"\"\n",
        "    if is_latent == True:\n",
        "    inp = layers.Input((latent_dim,),dtype=tf.float32)\n",
        "    x = layers.Dense(input_shape[0]*input_shape[1]*input_shape[2],kernel_constraint=const)(x)\n",
        "    x = layers.Reshape(input_shape)(x)\n",
        "    x = layers.BatchNormalization()(x)\n",
        "    x = layers.LeakyReLU()(x)\n",
        "  \"\"\"\n",
        "  layer_list=[]\n",
        "  for i in range(num):\n",
        "    if i == num-1:\n",
        "      use_last_layer=True\n",
        "    x=uup(x,f,use_last_layer)\n",
        "    f=x.shape[-1]\n",
        "\n",
        "\n",
        "\n",
        "  return x #tf.keras.models.Model(inp,x)\n",
        "\n",
        "\n",
        "gb=genBlock(3,True)\n",
        "gb.plot()\n",
        "db=discBlock(3)\n",
        "db.plot()"
      ],
      "execution_count": null,
      "outputs": [
        {
          "output_type": "stream",
          "text": [
            "genBlock\n"
          ],
          "name": "stdout"
        },
        {
          "output_type": "display_data",
          "data": {
            "image/png": "[encoded data removed]",
            "text/plain": [
              "<IPython.core.display.Image object>"
            ]
          },
          "metadata": {
            "tags": []
          }
        },
        {
          "output_type": "stream",
          "text": [
            "------------------------------\n",
            "discBlock\n"
          ],
          "name": "stdout"
        },
        {
          "output_type": "display_data",
          "data": {
            "image/png": "[encoded data removed]",
            "text/plain": [
              "<IPython.core.display.Image object>"
            ]
          },
          "metadata": {
            "tags": []
          }
        },
        {
          "output_type": "stream",
          "text": [
            "------------------------------\n"
          ],
          "name": "stdout"
        }
      ]
    },
    {
      "cell_type": "code",
      "metadata": {
        "id": "o9Cs2p9PEf29"
      },
      "source": [
        "def get_alphas(_model):\n",
        "  alphas=[]\n",
        "  for v in _model.non_trainable_variables:\n",
        "    if v.name[:5]=='alpha':\n",
        "      alphas.append(v)\n",
        "  return alphas\n",
        "\n",
        "def set_alphas(alphas,new_values):\n",
        "  for a,nv in zip(alphas,new_values):\n",
        "    a.assign(nv)\n",
        "\n",
        "#alphas= get_alphas(unet)\n",
        "#print(alphas)\n",
        "#new_values = tf.ones_like(alphas) * 0.2\n",
        "#set_alphas(alphas , new_values)\n",
        "#print(alphas)\n"
      ],
      "execution_count": null,
      "outputs": []
    },
    {
      "cell_type": "code",
      "metadata": {
        "id": "jyR5kC6oCNOE"
      },
      "source": [
        "\"\"\"def get_filters(f_size):\n",
        "  filters = [f_size*2**i for i in range(0,6)]\n",
        "  return filters\n",
        "\"\"\"\n",
        "#discriminator.trainable = True\n"
      ],
      "execution_count": null,
      "outputs": []
    },
    {
      "cell_type": "code",
      "metadata": {
        "id": "arorfOWmcmK_",
        "outputId": "3475332f-ae37-4190-e005-8e93da454606",
        "colab": {
          "base_uri": "https://localhost:8080/",
          "height": 1000
        }
      },
      "source": [
        "def get_unet(inpx,num,f_total,w):\n",
        "    \n",
        "  x=inpx\n",
        "  f=f_total\n",
        "\n",
        "  x = layers.Dense((512*1))(x)\n",
        "  x = layers.Reshape((512,1))(x)\n",
        "  x = layers.LeakyReLU()(x)\n",
        "  \n",
        "  use_last_layer = False\n",
        "  for i in range(num):\n",
        "    if i == num-1:\n",
        "      use_last_layer=True\n",
        "\n",
        "    x=uup(x,f,use_last_layer)\n",
        "    f=x.shape[-1]  \n",
        "\n",
        "  #x = layers.Conv2DTranspose(1,kernel_size,padding='SAME',use_bias=True, kernel_initializer=init , kernel_constraint=const )(x)\n",
        " \n",
        "  return tf.keras.Model(inpx , x)\n",
        "\n",
        "\n",
        "input_shape = (512,512,1)\n",
        "inpx = layers.Input((256,) , name = 'inpx')\n",
        "#inpy = layers.Input(input_shape , name='inpy')\n",
        "NUM = 6\n",
        "FILTER_SIZE=8\n",
        "unet= get_unet(inpx,NUM,2**FILTER_SIZE,8)\n",
        "unet.summary()\n",
        "tf.keras.utils.plot_model(unet,dpi=64,show_shapes=True)\n"
      ],
      "execution_count": null,
      "outputs": [
        {
          "output_type": "stream",
          "text": [
            "Model: \"functional_25\"\n",
            "_________________________________________________________________\n",
            "Layer (type)                 Output Shape              Param #   \n",
            "=================================================================\n",
            "inpx (InputLayer)            [(None, 256)]             0         \n",
            "_________________________________________________________________\n",
            "dense_5 (Dense)              (None, 512)               131584    \n",
            "_________________________________________________________________\n",
            "reshape_5 (Reshape)          (None, 512, 1)            0         \n",
            "_________________________________________________________________\n",
            "leaky_re_lu_41 (LeakyReLU)   (None, 512, 1)            0         \n",
            "_________________________________________________________________\n",
            "gen_block_31 (genBlock)      (None, 512, 128)          50048     \n",
            "_________________________________________________________________\n",
            "gen_block_32 (genBlock)      (None, 512, 64)           37120     \n",
            "_________________________________________________________________\n",
            "gen_block_33 (genBlock)      (None, 512, 32)           9344      \n",
            "_________________________________________________________________\n",
            "gen_block_34 (genBlock)      (None, 512, 16)           2368      \n",
            "_________________________________________________________________\n",
            "gen_block_35 (genBlock)      (None, 512, 8)            608       \n",
            "_________________________________________________________________\n",
            "gen_block_36 (genBlock)      (None, 512, 4)            160       \n",
            "=================================================================\n",
            "Total params: 231,232\n",
            "Trainable params: 230,728\n",
            "Non-trainable params: 504\n",
            "_________________________________________________________________\n"
          ],
          "name": "stdout"
        },
        {
          "output_type": "execute_result",
          "data": {
            "image/png": "[encoded data removed]",
            "text/plain": [
              "<IPython.core.display.Image object>"
            ]
          },
          "metadata": {
            "tags": []
          },
          "execution_count": 21
        }
      ]
    },
    {
      "cell_type": "code",
      "metadata": {
        "id": "VeArs3DVMb2Y"
      },
      "source": [
        "def gram_matrix(input_tensor):\n",
        "  result = tf.linalg.einsum('bijc,bijd->bcd', input_tensor, input_tensor)\n",
        "  input_shape = tf.shape(input_tensor)\n",
        "  num_locations = tf.cast(input_shape[1]*input_shape[2], tf.float32)\n",
        "  return result/(num_locations)"
      ],
      "execution_count": null,
      "outputs": []
    },
    {
      "cell_type": "code",
      "metadata": {
        "id": "WtMc4JnufCEr"
      },
      "source": [
        "disc_inp = layers.Input(input_shape)\n",
        "\n",
        "#disc_inp = layers.GaussianNoise(0.05)(disc_inp)\n",
        "layers_x = get_discriminator(disc_inp,NUM,FILTER_SIZE)\n",
        "style_outputs=layers_x\n",
        "#style_outputs = [gram_matrix(style_output)\n",
        "#                     for style_output in layers_x]\n",
        "x = layers.Flatten()(layers_x[-1])\n",
        "#x = layers.GlobalAveragePooling2D()(x)\n",
        "x = layers.Dense(1,kernel_constraint=const)(x)\n",
        "layers_x.append(x)\n",
        "style_outputs.append(x)\n",
        "discriminator = tf.keras.Model(disc_inp ,  style_outputs)\n",
        "\n",
        "discriminator.summary()\n",
        "tf.keras.utils.plot_model(discriminator,dpi=64,show_shapes=True)\n"
      ],
      "execution_count": null,
      "outputs": []
    },
    {
      "cell_type": "code",
      "metadata": {
        "id": "k2iKdKEHBcj4"
      },
      "source": [
        "def get_noise():\n",
        "  return tf.random.normal((BATCH_SIZE , 256))\n",
        "\n",
        "LR = 0.1\n",
        "generator = unet\n",
        "NUM_SAMPLE=5\n",
        "#x_const=next(iter(ebi))[0]\n",
        "x_spect_const= get_noise()[:16,...]#x_const[...,0]\n",
        "#x_angle_const= x_const[...,1]\n",
        "\n",
        "y_const=next(iter(hayede))[0]\n",
        "y_spect_const=y_const[...,0]\n",
        "y_angle_const=y_const[...,1]\n",
        "\n",
        "\n",
        "def result(x_spect,flag=False):\n",
        "  out_spect= tf.math.log1p( generator(x_spect ,training=False)[:,:,:,0] )\n",
        "\n",
        "  plt.figure(figsize=(8,8))\n",
        "  i=0\n",
        "\n",
        "  for spect in out_spect:\n",
        "\n",
        "    spect = tf.nn.relu((spect+1)*2.5)\n",
        "    plt.subplot(4,4,i+1)\n",
        "    plt.imshow(spect)\n",
        "    plt.axis(False)\n",
        "    if flag == True:\n",
        "      a = t2a(spect ,frame_length,frame_step,1023)\n",
        "      display(a,22050)\n",
        "    i+=1\n",
        "  \n",
        "  plt.show()\n",
        "\n",
        "result(x_spect_const,False)\n",
        "\n",
        "generator_optimizer =tf.keras.optimizers.Adam(LR,0.0) \n",
        "discriminator_optimizer = tf.keras.optimizers.Adam(LR,0.0) \n",
        "num_style_layers = len(discriminator(y_spect_const[None, ... ,None]))-1\n",
        "style_weight = 1\n",
        "@tf.function\n",
        "def train_step(x_spect,y_spect):\n",
        "  noise = get_noise()\n",
        "  with tf.GradientTape(True) as tape:\n",
        "    fake = generator(noise,training=True)\n",
        "\n",
        "    real_disc_content  = discriminator(x_spect,training=True)[-1]\n",
        "    fake_disc  = discriminator(fake,training=True)\n",
        "    f_styles=fake_disc[:-2]\n",
        "    fake_disc=fake_disc[-1]\n",
        "\n",
        "    y_styles  = discriminator(y_spect,training=True)[:-2]\n",
        "    #print(real_disc_content)\n",
        "    style_loss =tf.add_n( [tf.reduce_mean(tf.abs(tf.subtract(gram_matrix(y),gram_matrix(f))))  for y,f in zip(y_styles,f_styles) ] ) \n",
        "                           \n",
        "    style_loss = style_loss  / num_style_layers\n",
        "\n",
        "    loss_gen  = gen_loss(fake_disc) #+ style_loss\n",
        "    loss_disc =  disc_loss(real_disc_content,fake_disc) \n",
        "\n",
        "\n",
        "  gen_grad  = tape.gradient(loss_gen,generator.trainable_variables)\n",
        "  generator_optimizer.apply_gradients(zip(gen_grad,generator.trainable_variables))\n",
        "  disc_grad = tape.gradient(loss_disc,discriminator.trainable_variables)\n",
        "  discriminator_optimizer.apply_gradients(zip(disc_grad,discriminator.trainable_variables))\n",
        "\n",
        "  return [loss_gen , loss_disc ]#,style_loss]\n"
      ],
      "execution_count": null,
      "outputs": []
    },
    {
      "cell_type": "code",
      "metadata": {
        "id": "KpTabEOzpwx-"
      },
      "source": [
        "history=[] \n",
        "EPOCHS=15\n",
        "for e in range(0,EPOCHS):\n",
        "  start = time.time()   \n",
        "  \n",
        "  for x,y in zip(ebi,hayede):\n",
        "    h = train_step(x[...,0:1],y[...,0:1])\n",
        "    \n",
        "  \n",
        "  print ('Time for epoch {} is {} sec loss_gen {} , loss_disc {} '.format(e+1, time.time()-start,h[0],h[1]))\n",
        "  history.append(h)\n",
        "  result(x_spect_const,False)\n",
        "\n",
        "  if e%11==10:\n",
        "    hayede = tf.data.Dataset.from_tensor_slices(hayede_np).shuffle(250).batch(BATCH_SIZE,True)\n",
        "    ebi = tf.data.Dataset.from_tensor_slices(ebi_np).shuffle(250).batch(BATCH_SIZE,True)\n",
        "\n",
        "\n"
      ],
      "execution_count": null,
      "outputs": []
    },
    {
      "cell_type": "code",
      "metadata": {
        "id": "z0ngCIJDmE4l"
      },
      "source": [
        "plt.figure(figsize=(10,10))\n",
        "y = np.array(history)\n",
        "plt.plot(y,'.-')\n",
        "plt.ylim()#[-1,5])\n",
        "plt.legend(['loss_gen' , 'loss_disc' , 'disc_real_loss' , 'disc_fake_loss' ])\n",
        "plt.show()\n"
      ],
      "execution_count": null,
      "outputs": []
    },
    {
      "cell_type": "code",
      "metadata": {
        "id": "VfcVU5M_U5FB"
      },
      "source": [
        "  result(x_spect_const,True)"
      ],
      "execution_count": null,
      "outputs": []
    },
    {
      "cell_type": "code",
      "metadata": {
        "id": "8mRxOMaNQMV2"
      },
      "source": [
        "\"\"\"\n",
        "\n",
        "LR = 1e-3\n",
        "generator = unet\n",
        "NUM_SAMPLE=5\n",
        "x_const=next(iter(ebi))[0]\n",
        "x_spect_const= x_const[...,0]\n",
        "x_angle_const= x_const[...,1]\n",
        "\n",
        "y_const=next(iter(hayede))[0]\n",
        "y_spect_const=y_const[...,0]\n",
        "y_angle_const=y_const[...,1]\n",
        "\n",
        "\n",
        "def result(x_spect,x_angle,y_spect,y_angle,flag=False):\n",
        "  out_spect= generator([x_spect[None,...,None],y_spect[None,...,None]],training=False)[0,:,:,0]\n",
        "\n",
        "  plt.figure(figsize=(8,8))\n",
        "  i=0\n",
        "\n",
        "  for x in [(x_spect, x_angle) ,(y_spect, y_angle) , (out_spect,x_angle)]:\n",
        "    spect = x[0]\n",
        "    angle = x[1]\n",
        "\n",
        "    spect = tf.nn.relu((spect+1)*2.5)\n",
        "    angle = angle * np.pi\n",
        "    print(np.max(spect))\n",
        "    plt.subplot(1,3,i+1)\n",
        "    plt.imshow(spect)\n",
        "    plt.axis(False)\n",
        "    if flag == True:\n",
        "      a = invspectogram(spect,angle,frame_length,frame_step,1023)\n",
        "      display(a,22050)\n",
        "    i+=1\n",
        "  \n",
        "  plt.show()\n",
        "\n",
        "result(x_spect_const,x_angle_const,y_spect_const,y_angle_const,True)\n",
        "\n",
        "generator_optimizer =tf.keras.optimizers.Adam(LR,0.0) \n",
        "discriminator_optimizer = tf.keras.optimizers.Adam(LR,0.0) \n",
        "\n",
        "@tf.function\n",
        "def train_step(x_spect,y_spect):\n",
        "  \n",
        "  with tf.GradientTape(True) as tape:\n",
        "    fake = generator([x_spect,y_spect],training=True)\n",
        "\n",
        "    real_disc_content  = discriminator(x_spect,training=True)\n",
        "    real_disc_content_y  = discriminator(y_spect,training=True)\n",
        "    fake_disc  = discriminator(fake,training=True)\n",
        "\n",
        "    #loss_equal= tf.math.sqrt(tf.nn.l2_loss(fake-y_spect))*0.01\n",
        "    loss_gen  = gen_loss(fake_disc) \n",
        "    loss_disc =  disc_loss(real_disc_content,fake_disc) + disc_loss(real_disc_content_y,fake_disc) \n",
        "\n",
        "\n",
        "  gen_grad  = tape.gradient(loss_gen,generator.trainable_variables)\n",
        "  generator_optimizer.apply_gradients(zip(gen_grad,generator.trainable_variables))\n",
        "  disc_grad = tape.gradient(loss_disc,discriminator.trainable_variables)\n",
        "  discriminator_optimizer.apply_gradients(zip(disc_grad,discriminator.trainable_variables))\n",
        "\n",
        "  return [loss_gen , loss_disc ]\n",
        "\"\"\""
      ],
      "execution_count": null,
      "outputs": []
    }
  ]
}